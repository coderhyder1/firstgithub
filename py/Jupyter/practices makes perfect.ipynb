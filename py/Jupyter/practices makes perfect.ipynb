{
 "cells": [
  {
   "cell_type": "markdown",
   "id": "7cd4bcb1",
   "metadata": {},
   "source": [
    "# TUPLES\n",
    "# LISTS\n",
    "# Dictionaries\n",
    "# Sets"
   ]
  },
  {
   "cell_type": "markdown",
   "id": "9706effa",
   "metadata": {},
   "source": [
    "## 1- Tuples"
   ]
  },
  {
   "cell_type": "code",
   "execution_count": null,
   "id": "78046ea6",
   "metadata": {},
   "outputs": [],
   "source": [
    "# ordered collection of elements.\n",
    "# it contains multiple elements in a single variable.\n",
    "# elements are seperated by commas and enclosed within round brackets ().\n",
    "# they are unchangeable, you cannot modify its contents - you can't add, remove, \n",
    "# or change elements in a tuple after it has been created. \n",
    "# to add something in tuple, convert the type to list, make changes in it and then \n",
    "# again convert it to tuple.\n",
    "# methods:- Count, Index, length"
   ]
  },
  {
   "cell_type": "code",
   "execution_count": 9,
   "id": "5cd81ffb",
   "metadata": {},
   "outputs": [
    {
     "data": {
      "text/plain": [
       "('adnan', 'hyder', 55, 60, 11.5)"
      ]
     },
     "execution_count": 9,
     "metadata": {},
     "output_type": "execute_result"
    }
   ],
   "source": [
    "tup1= (\"adnan\", \"hyder\", 55, 60, 11.5)\n",
    "tup1"
   ]
  },
  {
   "cell_type": "code",
   "execution_count": 84,
   "id": "cb62612c",
   "metadata": {},
   "outputs": [
    {
     "data": {
      "text/plain": [
       "tuple"
      ]
     },
     "execution_count": 84,
     "metadata": {},
     "output_type": "execute_result"
    }
   ],
   "source": []
  },
  {
   "cell_type": "code",
   "execution_count": 7,
   "id": "c9754443",
   "metadata": {},
   "outputs": [
    {
     "data": {
      "text/plain": [
       "('girl', 'khan', 88, 32, 44)"
      ]
     },
     "execution_count": 7,
     "metadata": {},
     "output_type": "execute_result"
    }
   ],
   "source": [
    "tup2= (\"girl\", \"khan\", 88, 32, 44)\n",
    "tup2"
   ]
  },
  {
   "cell_type": "code",
   "execution_count": 11,
   "id": "6e97b39b",
   "metadata": {},
   "outputs": [
    {
     "data": {
      "text/plain": [
       "tuple"
      ]
     },
     "execution_count": 11,
     "metadata": {},
     "output_type": "execute_result"
    }
   ],
   "source": [
    "type(tup2)"
   ]
  },
  {
   "cell_type": "code",
   "execution_count": 24,
   "id": "f3fc5e01",
   "metadata": {
    "scrolled": true
   },
   "outputs": [
    {
     "name": "stdout",
     "output_type": "stream",
     "text": [
      "(88, 32)\n"
     ]
    }
   ],
   "source": [
    "print(tup2[2:4])"
   ]
  },
  {
   "cell_type": "code",
   "execution_count": 10,
   "id": "4f549828",
   "metadata": {},
   "outputs": [
    {
     "name": "stdout",
     "output_type": "stream",
     "text": [
      "('adnan', 'hyder')\n"
     ]
    }
   ],
   "source": [
    "#if there is nothing before :, then it is 0.\n",
    "print(tup1[:2])"
   ]
  },
  {
   "cell_type": "code",
   "execution_count": 81,
   "id": "a53f5462",
   "metadata": {
    "scrolled": true
   },
   "outputs": [
    {
     "name": "stdout",
     "output_type": "stream",
     "text": [
      "(55, 60, 11.5)\n"
     ]
    }
   ],
   "source": [
    "#if there is nothing after :, then it is the length of tuple.\n",
    "print(tup1[2:])"
   ]
  },
  {
   "cell_type": "code",
   "execution_count": 25,
   "id": "c56694c5",
   "metadata": {},
   "outputs": [
    {
     "data": {
      "text/plain": [
       "tuple"
      ]
     },
     "execution_count": 25,
     "metadata": {},
     "output_type": "execute_result"
    }
   ],
   "source": [
    "type(tup2)"
   ]
  },
  {
   "cell_type": "code",
   "execution_count": 26,
   "id": "55d1a2df",
   "metadata": {},
   "outputs": [
    {
     "data": {
      "text/plain": [
       "5"
      ]
     },
     "execution_count": 26,
     "metadata": {},
     "output_type": "execute_result"
    }
   ],
   "source": [
    "len(tup2)"
   ]
  },
  {
   "cell_type": "code",
   "execution_count": 27,
   "id": "5d211966",
   "metadata": {},
   "outputs": [
    {
     "data": {
      "text/plain": [
       "1"
      ]
     },
     "execution_count": 27,
     "metadata": {},
     "output_type": "execute_result"
    }
   ],
   "source": [
    "tup2.count(\"girl\")"
   ]
  },
  {
   "cell_type": "code",
   "execution_count": 28,
   "id": "110b2a2e",
   "metadata": {},
   "outputs": [
    {
     "data": {
      "text/plain": [
       "('adnan', 'hyder', 55, 60, 11.5, 'girl', 'khan', 88, 32, 44)"
      ]
     },
     "execution_count": 28,
     "metadata": {},
     "output_type": "execute_result"
    }
   ],
   "source": [
    "tup3= tup1 + tup2\n",
    "tup3"
   ]
  },
  {
   "cell_type": "code",
   "execution_count": 29,
   "id": "869f0b45",
   "metadata": {
    "scrolled": true
   },
   "outputs": [
    {
     "data": {
      "text/plain": [
       "44"
      ]
     },
     "execution_count": 29,
     "metadata": {},
     "output_type": "execute_result"
    }
   ],
   "source": [
    "tup3[-1]"
   ]
  },
  {
   "cell_type": "code",
   "execution_count": 31,
   "id": "e7a059f7",
   "metadata": {},
   "outputs": [
    {
     "name": "stdout",
     "output_type": "stream",
     "text": [
      "yes\n"
     ]
    }
   ],
   "source": [
    "if 11.5 in tup3:\n",
    "    print(\"yes\")\n",
    "else:\n",
    "    print(\"No\")"
   ]
  },
  {
   "cell_type": "markdown",
   "id": "c1c60400",
   "metadata": {},
   "source": [
    "## 2- Lists"
   ]
  },
  {
   "cell_type": "code",
   "execution_count": null,
   "id": "7f64552f",
   "metadata": {},
   "outputs": [],
   "source": [
    "# ordered collection of elements.\n",
    "# it contains multiple elements in a single variable.\n",
    "# elements are seperated by commas and enclosed within squared brackets [].\n",
    "# they are changeable, you can modify its contents - you can add, remove, or \n",
    "# change elements in a list after it has been created. \n",
    "# Methods:- Sort, reverse, Index, Count, Copy, Insert, Extend, Concatenate."
   ]
  },
  {
   "cell_type": "code",
   "execution_count": 59,
   "id": "fe4aff05",
   "metadata": {},
   "outputs": [
    {
     "data": {
      "text/plain": [
       "[2, 3, 55, 7, 'adnan']"
      ]
     },
     "execution_count": 59,
     "metadata": {},
     "output_type": "execute_result"
    }
   ],
   "source": [
    "list1= [2,3,55,7, \"adnan\"]\n",
    "list1"
   ]
  },
  {
   "cell_type": "code",
   "execution_count": 33,
   "id": "71b65a2d",
   "metadata": {},
   "outputs": [
    {
     "data": {
      "text/plain": [
       "5"
      ]
     },
     "execution_count": 33,
     "metadata": {},
     "output_type": "execute_result"
    }
   ],
   "source": [
    "len(list1)"
   ]
  },
  {
   "cell_type": "code",
   "execution_count": 34,
   "id": "dbaf0db1",
   "metadata": {},
   "outputs": [
    {
     "data": {
      "text/plain": [
       "1"
      ]
     },
     "execution_count": 34,
     "metadata": {},
     "output_type": "execute_result"
    }
   ],
   "source": [
    "list1.count(\"adnan\")"
   ]
  },
  {
   "cell_type": "code",
   "execution_count": 35,
   "id": "cc1a4f1e",
   "metadata": {},
   "outputs": [
    {
     "data": {
      "text/plain": [
       "'adnan'"
      ]
     },
     "execution_count": 35,
     "metadata": {},
     "output_type": "execute_result"
    }
   ],
   "source": [
    "list1[4]"
   ]
  },
  {
   "cell_type": "code",
   "execution_count": 36,
   "id": "10d2bd0a",
   "metadata": {},
   "outputs": [
    {
     "data": {
      "text/plain": [
       "['khan', 32, 11, 'hyder']"
      ]
     },
     "execution_count": 36,
     "metadata": {},
     "output_type": "execute_result"
    }
   ],
   "source": [
    "list2= [\"khan\", 32, 11, \"hyder\"]\n",
    "list2"
   ]
  },
  {
   "cell_type": "code",
   "execution_count": 37,
   "id": "3d810368",
   "metadata": {},
   "outputs": [
    {
     "data": {
      "text/plain": [
       "'hyder'"
      ]
     },
     "execution_count": 37,
     "metadata": {},
     "output_type": "execute_result"
    }
   ],
   "source": [
    "list2[3]"
   ]
  },
  {
   "cell_type": "code",
   "execution_count": 38,
   "id": "86efc780",
   "metadata": {},
   "outputs": [
    {
     "data": {
      "text/plain": [
       "[32, 11]"
      ]
     },
     "execution_count": 38,
     "metadata": {},
     "output_type": "execute_result"
    }
   ],
   "source": [
    "list2[1:3]"
   ]
  },
  {
   "cell_type": "code",
   "execution_count": 39,
   "id": "c6d9ea76",
   "metadata": {
    "scrolled": true
   },
   "outputs": [
    {
     "data": {
      "text/plain": [
       "['khan', 32, 11]"
      ]
     },
     "execution_count": 39,
     "metadata": {},
     "output_type": "execute_result"
    }
   ],
   "source": [
    "list2[:3]"
   ]
  },
  {
   "cell_type": "code",
   "execution_count": 40,
   "id": "69c636f0",
   "metadata": {},
   "outputs": [
    {
     "data": {
      "text/plain": [
       "['khan', 32, 11, 'hyder']"
      ]
     },
     "execution_count": 40,
     "metadata": {},
     "output_type": "execute_result"
    }
   ],
   "source": [
    "list2[0:]"
   ]
  },
  {
   "cell_type": "code",
   "execution_count": 46,
   "id": "ff0333f7",
   "metadata": {},
   "outputs": [
    {
     "data": {
      "text/plain": [
       "['khan', 'khan', 'khan', 2, 3, 55, 7, 'adnan']"
      ]
     },
     "execution_count": 46,
     "metadata": {},
     "output_type": "execute_result"
    }
   ],
   "source": [
    "list1"
   ]
  },
  {
   "cell_type": "code",
   "execution_count": 48,
   "id": "069983a3",
   "metadata": {},
   "outputs": [
    {
     "data": {
      "text/plain": [
       "[2, 'khan', 3, 55, 7, 'adnan']"
      ]
     },
     "execution_count": 48,
     "metadata": {},
     "output_type": "execute_result"
    }
   ],
   "source": [
    "list1.insert(1, \"khan\") #mention that on which number it is to be placed\n",
    "list1"
   ]
  },
  {
   "cell_type": "code",
   "execution_count": 49,
   "id": "8a572cac",
   "metadata": {},
   "outputs": [
    {
     "data": {
      "text/plain": [
       "['khan', 32, 11, 'hyder']"
      ]
     },
     "execution_count": 49,
     "metadata": {},
     "output_type": "execute_result"
    }
   ],
   "source": [
    "list2"
   ]
  },
  {
   "cell_type": "code",
   "execution_count": 50,
   "id": "6a0079ba",
   "metadata": {},
   "outputs": [
    {
     "data": {
      "text/plain": [
       "['khan', 32, 11, 'hyder', 55]"
      ]
     },
     "execution_count": 50,
     "metadata": {},
     "output_type": "execute_result"
    }
   ],
   "source": [
    "list2.append(55)\n",
    "list2"
   ]
  },
  {
   "cell_type": "code",
   "execution_count": 51,
   "id": "2c2a3b3e",
   "metadata": {},
   "outputs": [
    {
     "data": {
      "text/plain": [
       "[2, 'khan', 3, 55, 7, 'adnan']"
      ]
     },
     "execution_count": 51,
     "metadata": {},
     "output_type": "execute_result"
    }
   ],
   "source": [
    "list1"
   ]
  },
  {
   "cell_type": "code",
   "execution_count": 52,
   "id": "abf55523",
   "metadata": {},
   "outputs": [
    {
     "data": {
      "text/plain": [
       "list"
      ]
     },
     "execution_count": 52,
     "metadata": {},
     "output_type": "execute_result"
    }
   ],
   "source": [
    "type(list1)"
   ]
  },
  {
   "cell_type": "code",
   "execution_count": 60,
   "id": "c29c223d",
   "metadata": {},
   "outputs": [
    {
     "data": {
      "text/plain": [
       "[2, 3, 55, 7, 'adnan', 55]"
      ]
     },
     "execution_count": 60,
     "metadata": {},
     "output_type": "execute_result"
    }
   ],
   "source": [
    "list1.append(55)\n",
    "list1"
   ]
  },
  {
   "cell_type": "code",
   "execution_count": 64,
   "id": "0d963782",
   "metadata": {},
   "outputs": [
    {
     "data": {
      "text/plain": [
       "[2, 3, 55, 7, 'adnan', 55, 66, 66, 66]"
      ]
     },
     "execution_count": 64,
     "metadata": {},
     "output_type": "execute_result"
    }
   ],
   "source": [
    "list1.append(66)\n",
    "list1"
   ]
  },
  {
   "cell_type": "code",
   "execution_count": 65,
   "id": "62b3bf08",
   "metadata": {},
   "outputs": [
    {
     "data": {
      "text/plain": [
       "[2, 3, 55, 7, 'adnan', 55, 66, 66, 66]"
      ]
     },
     "execution_count": 65,
     "metadata": {},
     "output_type": "execute_result"
    }
   ],
   "source": [
    "list1"
   ]
  },
  {
   "cell_type": "code",
   "execution_count": 35,
   "id": "436ba987",
   "metadata": {},
   "outputs": [
    {
     "data": {
      "text/plain": [
       "[2, 3, 7, 66]"
      ]
     },
     "execution_count": 35,
     "metadata": {},
     "output_type": "execute_result"
    }
   ],
   "source": [
    "list1.index(66)\n",
    "list1"
   ]
  },
  {
   "cell_type": "code",
   "execution_count": 36,
   "id": "86c1cdf0",
   "metadata": {
    "scrolled": true
   },
   "outputs": [
    {
     "data": {
      "text/plain": [
       "[2, 3, 7, 66]"
      ]
     },
     "execution_count": 36,
     "metadata": {},
     "output_type": "execute_result"
    }
   ],
   "source": [
    "list1.index(66)\n",
    "list1"
   ]
  },
  {
   "cell_type": "markdown",
   "id": "6099d45e",
   "metadata": {},
   "source": [
    "# 3- Dictionaries"
   ]
  },
  {
   "cell_type": "code",
   "execution_count": null,
   "id": "5f0a2347",
   "metadata": {},
   "outputs": [],
   "source": [
    "# ordered collection of data items.\n",
    "# they store multiple items in a singe variable.\n",
    "# they are key-value pairs separated by commas and \n",
    "# enclosed with curly bracket {}\n",
    "# update, clear, pop, del, "
   ]
  },
  {
   "cell_type": "code",
   "execution_count": 37,
   "id": "343f998e",
   "metadata": {},
   "outputs": [
    {
     "data": {
      "text/plain": [
       "{'samosa': 50, 'pakore': 70, 'besan': 40}"
      ]
     },
     "execution_count": 37,
     "metadata": {},
     "output_type": "execute_result"
    }
   ],
   "source": [
    "dic1= {\"samosa\":50, \"pakore\":70, \"besan\":40}\n",
    "dic1"
   ]
  },
  {
   "cell_type": "code",
   "execution_count": 38,
   "id": "9ef471de",
   "metadata": {},
   "outputs": [
    {
     "data": {
      "text/plain": [
       "3"
      ]
     },
     "execution_count": 38,
     "metadata": {},
     "output_type": "execute_result"
    }
   ],
   "source": [
    "len(dic1)"
   ]
  },
  {
   "cell_type": "code",
   "execution_count": 47,
   "id": "c9adb2e7",
   "metadata": {},
   "outputs": [
    {
     "data": {
      "text/plain": [
       "{'samosa': 70, 'pakore': 70, 'besan': 40}"
      ]
     },
     "execution_count": 47,
     "metadata": {},
     "output_type": "execute_result"
    }
   ],
   "source": [
    "#to update the contents of the dictionary, we must have to use these [] brackets\n",
    "dic1[\"samosa\"] = 70\n",
    "dic1"
   ]
  },
  {
   "cell_type": "code",
   "execution_count": 48,
   "id": "92d980ea",
   "metadata": {},
   "outputs": [
    {
     "data": {
      "text/plain": [
       "{'samosa': 70, 'pakore': 70, 'besan': 40}"
      ]
     },
     "execution_count": 48,
     "metadata": {},
     "output_type": "execute_result"
    }
   ],
   "source": [
    "dic1"
   ]
  },
  {
   "cell_type": "code",
   "execution_count": 53,
   "id": "05aefce7",
   "metadata": {},
   "outputs": [],
   "source": [
    "dic2= {\"mama\":10, \"papa\":20, \"api\":30, \"baji\":40}"
   ]
  },
  {
   "cell_type": "code",
   "execution_count": 54,
   "id": "a759967c",
   "metadata": {},
   "outputs": [
    {
     "data": {
      "text/plain": [
       "{'mama': 10, 'papa': 20, 'api': 30, 'baji': 40}"
      ]
     },
     "execution_count": 54,
     "metadata": {},
     "output_type": "execute_result"
    }
   ],
   "source": [
    "dic2"
   ]
  },
  {
   "cell_type": "code",
   "execution_count": 55,
   "id": "bd0a442c",
   "metadata": {},
   "outputs": [
    {
     "data": {
      "text/plain": [
       "{'samosa': 70,\n",
       " 'pakore': 70,\n",
       " 'besan': 40,\n",
       " 'mama': 10,\n",
       " 'papa': 20,\n",
       " 'api': 30,\n",
       " 'baji': 40}"
      ]
     },
     "execution_count": 55,
     "metadata": {},
     "output_type": "execute_result"
    }
   ],
   "source": [
    "dic1.update(dic2)\n",
    "dic1"
   ]
  },
  {
   "cell_type": "code",
   "execution_count": 57,
   "id": "69bbe401",
   "metadata": {},
   "outputs": [
    {
     "data": {
      "text/plain": [
       "dict_keys(['samosa', 'pakore', 'besan', 'mama', 'papa', 'api', 'baji'])"
      ]
     },
     "execution_count": 57,
     "metadata": {},
     "output_type": "execute_result"
    }
   ],
   "source": [
    "keys= dic1.keys()\n",
    "keys"
   ]
  },
  {
   "cell_type": "code",
   "execution_count": 58,
   "id": "d727d5c7",
   "metadata": {},
   "outputs": [
    {
     "data": {
      "text/plain": [
       "dict_values([70, 70, 40, 10, 20, 30, 40])"
      ]
     },
     "execution_count": 58,
     "metadata": {},
     "output_type": "execute_result"
    }
   ],
   "source": [
    "values= dic1.values()\n",
    "values"
   ]
  },
  {
   "cell_type": "code",
   "execution_count": 59,
   "id": "987e387c",
   "metadata": {},
   "outputs": [
    {
     "data": {
      "text/plain": [
       "dict_values([10, 20, 30, 40])"
      ]
     },
     "execution_count": 59,
     "metadata": {},
     "output_type": "execute_result"
    }
   ],
   "source": [
    "keys= dic2.values()\n",
    "keys"
   ]
  },
  {
   "cell_type": "code",
   "execution_count": 60,
   "id": "6aa1d9be",
   "metadata": {},
   "outputs": [
    {
     "data": {
      "text/plain": [
       "dict_values([10, 20, 30, 40])"
      ]
     },
     "execution_count": 60,
     "metadata": {},
     "output_type": "execute_result"
    }
   ],
   "source": [
    "values= dic1.keys()\n",
    "keys"
   ]
  },
  {
   "cell_type": "code",
   "execution_count": 2,
   "id": "f9a805c0",
   "metadata": {},
   "outputs": [
    {
     "data": {
      "text/plain": [
       "{'hyder': 50, 'ali': 30, 'hassan': 45, 'umair': 55, 'khan': 65}"
      ]
     },
     "execution_count": 2,
     "metadata": {},
     "output_type": "execute_result"
    }
   ],
   "source": [
    "dic5= {\n",
    "    \"hyder\": 50,\n",
    "    \"ali\": 30,\n",
    "    \"hassan\": 45,\n",
    "    \"umair\": 55,\n",
    "    \"khan\": 65\n",
    "}\n",
    "dic5\n",
    "    "
   ]
  },
  {
   "cell_type": "code",
   "execution_count": 27,
   "id": "042a1c27",
   "metadata": {},
   "outputs": [
    {
     "data": {
      "text/plain": [
       "55"
      ]
     },
     "execution_count": 27,
     "metadata": {},
     "output_type": "execute_result"
    }
   ],
   "source": [
    "dic5[\"umair\"]"
   ]
  },
  {
   "cell_type": "code",
   "execution_count": 31,
   "id": "bd637aa3",
   "metadata": {
    "scrolled": true
   },
   "outputs": [
    {
     "data": {
      "text/plain": [
       "{666: 'hyder', 888: 'khan', 900: 'saqib', 909: 'jani'}"
      ]
     },
     "execution_count": 31,
     "metadata": {},
     "output_type": "execute_result"
    }
   ],
   "source": [
    "dic6= {\n",
    "    666: \"hyder\",\n",
    "    888: \"khan\",\n",
    "    900: \"saqib\",\n",
    "    909: \"jani\"\n",
    "}\n",
    "dic6"
   ]
  },
  {
   "cell_type": "code",
   "execution_count": 32,
   "id": "d02cdd70",
   "metadata": {},
   "outputs": [
    {
     "data": {
      "text/plain": [
       "'jani'"
      ]
     },
     "execution_count": 32,
     "metadata": {},
     "output_type": "execute_result"
    }
   ],
   "source": [
    "dic6[909]"
   ]
  },
  {
   "cell_type": "markdown",
   "id": "63239294",
   "metadata": {},
   "source": [
    "# 4- Sets"
   ]
  },
  {
   "cell_type": "code",
   "execution_count": null,
   "id": "729fd912",
   "metadata": {},
   "outputs": [],
   "source": [
    "# collection of unordered & well defined objects.\n",
    "# separated by commas and enlosed within curly brackets {}.\n",
    "# unchangeable.\n",
    "# do not contain duplicate item.\n",
    "# Methods:- union, intersection, update, difference, isdisjoin, issuperset, issubset, \n",
    "# add, remove, discard,delete, clear, pop   "
   ]
  },
  {
   "cell_type": "code",
   "execution_count": 1,
   "id": "3c6b5e00",
   "metadata": {},
   "outputs": [
    {
     "data": {
      "text/plain": [
       "{2, 4, 6}"
      ]
     },
     "execution_count": 1,
     "metadata": {},
     "output_type": "execute_result"
    }
   ],
   "source": [
    "s= {2, 4, 2, 6}\n",
    "s\n"
   ]
  },
  {
   "cell_type": "code",
   "execution_count": 2,
   "id": "b9d66cf1",
   "metadata": {},
   "outputs": [
    {
     "data": {
      "text/plain": [
       "set"
      ]
     },
     "execution_count": 2,
     "metadata": {},
     "output_type": "execute_result"
    }
   ],
   "source": [
    "type(s)"
   ]
  },
  {
   "cell_type": "code",
   "execution_count": 3,
   "id": "6b37d95a",
   "metadata": {
    "scrolled": true
   },
   "outputs": [
    {
     "data": {
      "text/plain": [
       "{55, False, 'adnan', 'khan', 'sher'}"
      ]
     },
     "execution_count": 3,
     "metadata": {},
     "output_type": "execute_result"
    }
   ],
   "source": [
    "set = {\"adnan\", 55, False, \"khan\", \"sher\"}\n",
    "set"
   ]
  },
  {
   "cell_type": "code",
   "execution_count": 4,
   "id": "3cebf909",
   "metadata": {
    "scrolled": true
   },
   "outputs": [
    {
     "data": {
      "text/plain": [
       "{55, False, 'adnan', 'khan', 'sher'}"
      ]
     },
     "execution_count": 4,
     "metadata": {},
     "output_type": "execute_result"
    }
   ],
   "source": [
    "set"
   ]
  },
  {
   "cell_type": "code",
   "execution_count": 7,
   "id": "5e4efbce",
   "metadata": {},
   "outputs": [
    {
     "data": {
      "text/plain": [
       "{4, 5, 6, 7}"
      ]
     },
     "execution_count": 7,
     "metadata": {},
     "output_type": "execute_result"
    }
   ],
   "source": [
    "s1 = {4, 5, 6, 7}\n",
    "s1"
   ]
  },
  {
   "cell_type": "code",
   "execution_count": 8,
   "id": "157177ba",
   "metadata": {
    "scrolled": true
   },
   "outputs": [
    {
     "data": {
      "text/plain": [
       "{1, 2, 3, 4}"
      ]
     },
     "execution_count": 8,
     "metadata": {},
     "output_type": "execute_result"
    }
   ],
   "source": [
    "s2 = {1, 2, 3, 4}\n",
    "s2"
   ]
  },
  {
   "cell_type": "code",
   "execution_count": 9,
   "id": "c9ae4014",
   "metadata": {},
   "outputs": [
    {
     "data": {
      "text/plain": [
       "{1, 2, 3, 4, 5, 6, 7}"
      ]
     },
     "execution_count": 9,
     "metadata": {},
     "output_type": "execute_result"
    }
   ],
   "source": [
    "#AUB\n",
    "s1.union(s2)"
   ]
  },
  {
   "cell_type": "code",
   "execution_count": 56,
   "id": "d355b33c",
   "metadata": {},
   "outputs": [
    {
     "data": {
      "text/plain": [
       "{4}"
      ]
     },
     "execution_count": 56,
     "metadata": {},
     "output_type": "execute_result"
    }
   ],
   "source": [
    "#A∩B\n",
    "s1.intersection(s2)"
   ]
  },
  {
   "cell_type": "code",
   "execution_count": 13,
   "id": "a96c1a43",
   "metadata": {},
   "outputs": [
    {
     "data": {
      "text/plain": [
       "{1, 2, 3}"
      ]
     },
     "execution_count": 13,
     "metadata": {},
     "output_type": "execute_result"
    }
   ],
   "source": [
    "#A-B\n",
    "s2.difference(s1)"
   ]
  },
  {
   "cell_type": "code",
   "execution_count": 58,
   "id": "6471e89f",
   "metadata": {},
   "outputs": [
    {
     "data": {
      "text/plain": [
       "{1, 2, 3, 4, 5, 6, 7}"
      ]
     },
     "execution_count": 58,
     "metadata": {},
     "output_type": "execute_result"
    }
   ],
   "source": [
    "s1.update(s2)\n",
    "s1"
   ]
  },
  {
   "cell_type": "code",
   "execution_count": 16,
   "id": "44a90fc9",
   "metadata": {},
   "outputs": [
    {
     "data": {
      "text/plain": [
       "{1, 2, 3, 4, 5}"
      ]
     },
     "execution_count": 16,
     "metadata": {},
     "output_type": "execute_result"
    }
   ],
   "source": [
    "s3 = {1,2,3,4,5}\n",
    "s3"
   ]
  },
  {
   "cell_type": "code",
   "execution_count": 17,
   "id": "4ae31c49",
   "metadata": {},
   "outputs": [
    {
     "data": {
      "text/plain": [
       "{1, 2, 3, 4}"
      ]
     },
     "execution_count": 17,
     "metadata": {},
     "output_type": "execute_result"
    }
   ],
   "source": [
    "s4 = {1,2,3,4}\n",
    "s4"
   ]
  },
  {
   "cell_type": "code",
   "execution_count": 20,
   "id": "d6cf7d0e",
   "metadata": {},
   "outputs": [
    {
     "data": {
      "text/plain": [
       "False"
      ]
     },
     "execution_count": 20,
     "metadata": {},
     "output_type": "execute_result"
    }
   ],
   "source": [
    "#If therer is even one element same in both sets, it will be false, if no same element, then true.\n",
    "s4.isdisjoint(s3)"
   ]
  },
  {
   "cell_type": "code",
   "execution_count": 22,
   "id": "243ee4f2",
   "metadata": {},
   "outputs": [
    {
     "data": {
      "text/plain": [
       "True"
      ]
     },
     "execution_count": 22,
     "metadata": {},
     "output_type": "execute_result"
    }
   ],
   "source": [
    "#if all the elements of set2 are available in set3 then true, otherwise false\n",
    "s4.issubset(s3)"
   ]
  },
  {
   "cell_type": "code",
   "execution_count": 2,
   "id": "61975fa0",
   "metadata": {},
   "outputs": [],
   "source": [
    "#the different value between both sets will be printed.\n",
    "s3.symmetric_difference(s4)"
   ]
  }
 ],
 "metadata": {
  "kernelspec": {
   "display_name": "Python 3 (ipykernel)",
   "language": "python",
   "name": "python3"
  },
  "language_info": {
   "codemirror_mode": {
    "name": "ipython",
    "version": 3
   },
   "file_extension": ".py",
   "mimetype": "text/x-python",
   "name": "python",
   "nbconvert_exporter": "python",
   "pygments_lexer": "ipython3",
   "version": "3.11.7"
  }
 },
 "nbformat": 4,
 "nbformat_minor": 5
}
