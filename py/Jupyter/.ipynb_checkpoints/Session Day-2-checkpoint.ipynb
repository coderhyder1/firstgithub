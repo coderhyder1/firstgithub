{
 "cells": [
  {
   "cell_type": "code",
   "execution_count": 2,
   "id": "8bff3ea4",
   "metadata": {},
   "outputs": [
    {
     "name": "stdout",
     "output_type": "stream",
     "text": [
      "what is your height?1.651\n"
     ]
    }
   ],
   "source": [
    "# body mass index (BMI)\n",
    "# input of weight, height\n",
    "# 1st variable: ask yourself your height\n",
    "# 2nd variable: ask yourself your weight\n",
    "# calculate BMI\n",
    "# BMI (My name is adnan and my BMI is:)\n",
    "\n",
    "height = input(\"what is your height?\" )"
   ]
  },
  {
   "cell_type": "code",
   "execution_count": 3,
   "id": "76e0553a",
   "metadata": {},
   "outputs": [
    {
     "name": "stdout",
     "output_type": "stream",
     "text": [
      "what is your weight?50\n"
     ]
    }
   ],
   "source": [
    "weight = input(\"what is your weight?\" )"
   ]
  },
  {
   "cell_type": "code",
   "execution_count": 4,
   "id": "d48c0a7d",
   "metadata": {
    "scrolled": true
   },
   "outputs": [
    {
     "data": {
      "text/plain": [
       "'1.651'"
      ]
     },
     "execution_count": 4,
     "metadata": {},
     "output_type": "execute_result"
    }
   ],
   "source": [
    "height"
   ]
  },
  {
   "cell_type": "code",
   "execution_count": 5,
   "id": "8e5155de",
   "metadata": {},
   "outputs": [
    {
     "data": {
      "text/plain": [
       "'50'"
      ]
     },
     "execution_count": 5,
     "metadata": {},
     "output_type": "execute_result"
    }
   ],
   "source": [
    "weight"
   ]
  },
  {
   "cell_type": "code",
   "execution_count": 7,
   "id": "8c3ede98",
   "metadata": {},
   "outputs": [
    {
     "data": {
      "text/plain": [
       "1.651"
      ]
     },
     "execution_count": 7,
     "metadata": {},
     "output_type": "execute_result"
    }
   ],
   "source": [
    "height = float(height)\n",
    "height"
   ]
  },
  {
   "cell_type": "code",
   "execution_count": 8,
   "id": "bc12ee18",
   "metadata": {},
   "outputs": [
    {
     "data": {
      "text/plain": [
       "float"
      ]
     },
     "execution_count": 8,
     "metadata": {},
     "output_type": "execute_result"
    }
   ],
   "source": [
    "type(height)"
   ]
  },
  {
   "cell_type": "code",
   "execution_count": 9,
   "id": "5f31176a",
   "metadata": {},
   "outputs": [
    {
     "data": {
      "text/plain": [
       "50.0"
      ]
     },
     "execution_count": 9,
     "metadata": {},
     "output_type": "execute_result"
    }
   ],
   "source": [
    "weight = float(weight)\n",
    "weight"
   ]
  },
  {
   "cell_type": "code",
   "execution_count": 10,
   "id": "fc3802f3",
   "metadata": {
    "scrolled": false
   },
   "outputs": [
    {
     "data": {
      "text/plain": [
       "float"
      ]
     },
     "execution_count": 10,
     "metadata": {},
     "output_type": "execute_result"
    }
   ],
   "source": [
    "type(weight)"
   ]
  },
  {
   "cell_type": "code",
   "execution_count": 17,
   "id": "8eb499db",
   "metadata": {
    "scrolled": false
   },
   "outputs": [
    {
     "name": "stdout",
     "output_type": "stream",
     "text": [
      "what is your name?adnan\n"
     ]
    },
    {
     "data": {
      "text/plain": [
       "'adnan'"
      ]
     },
     "execution_count": 17,
     "metadata": {},
     "output_type": "execute_result"
    }
   ],
   "source": [
    "name = input(\"what is your name?\" )\n",
    "name"
   ]
  },
  {
   "cell_type": "code",
   "execution_count": 19,
   "id": "354c1d2c",
   "metadata": {},
   "outputs": [
    {
     "data": {
      "text/plain": [
       "18.343231952736094"
      ]
     },
     "execution_count": 19,
     "metadata": {},
     "output_type": "execute_result"
    }
   ],
   "source": [
    "BMI = weight/height**2\n",
    "BMI"
   ]
  },
  {
   "cell_type": "code",
   "execution_count": 22,
   "id": "612a4476",
   "metadata": {},
   "outputs": [
    {
     "name": "stdout",
     "output_type": "stream",
     "text": [
      "my name is adnan and my BMI is 18.343231952736094\n"
     ]
    }
   ],
   "source": [
    "print(\"my name is\", name, \"and my BMI is\", BMI)"
   ]
  }
 ],
 "metadata": {
  "kernelspec": {
   "display_name": "Python 3 (ipykernel)",
   "language": "python",
   "name": "python3"
  },
  "language_info": {
   "codemirror_mode": {
    "name": "ipython",
    "version": 3
   },
   "file_extension": ".py",
   "mimetype": "text/x-python",
   "name": "python",
   "nbconvert_exporter": "python",
   "pygments_lexer": "ipython3",
   "version": "3.11.5"
  }
 },
 "nbformat": 4,
 "nbformat_minor": 5
}
