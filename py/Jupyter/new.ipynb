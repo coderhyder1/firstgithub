{
 "cells": [
  {
   "cell_type": "markdown",
   "id": "280c2c01",
   "metadata": {},
   "source": [
    "# 1- Indexing"
   ]
  },
  {
   "cell_type": "code",
   "execution_count": 1,
   "id": "f1886e1d",
   "metadata": {},
   "outputs": [
    {
     "data": {
      "text/plain": [
       "'r'"
      ]
     },
     "execution_count": 1,
     "metadata": {},
     "output_type": "execute_result"
    }
   ],
   "source": [
    "a = \"In the heart of bustling city life, diverse cultures converge, creating a vibrant tapestry of experiences. Amidst the urban rhythm, people forge connections, share stories, and embrace the fusion of traditions. Each corner holds a unique narrative, contributing to the rich mosaic that defines the city's dynamic essence.\"\n",
    "a[77]"
   ]
  },
  {
   "cell_type": "code",
   "execution_count": 2,
   "id": "fcf2f7ec",
   "metadata": {},
   "outputs": [
    {
     "data": {
      "text/plain": [
       "321"
      ]
     },
     "execution_count": 2,
     "metadata": {},
     "output_type": "execute_result"
    }
   ],
   "source": [
    "len(a)\n"
   ]
  },
  {
   "cell_type": "code",
   "execution_count": 3,
   "id": "5aab9e35",
   "metadata": {
    "scrolled": true
   },
   "outputs": [
    {
     "data": {
      "text/plain": [
       "'converge, creating a vibrant tapestry of experiences. Amidst the urban rhythm, people forge connections, share stories, and embrace the fusion of traditions. Each corner holds a unique narrative, contributing to the rich mosaic that defines the ci'"
      ]
     },
     "execution_count": 3,
     "metadata": {},
     "output_type": "execute_result"
    }
   ],
   "source": [
    "a[53:300]"
   ]
  },
  {
   "cell_type": "code",
   "execution_count": 4,
   "id": "a3e9bee1",
   "metadata": {},
   "outputs": [
    {
     "data": {
      "text/plain": [
       "\"n the heart of bustling city life, diverse cultures converge, creating a vibrant tapestry of experiences. Amidst the urban rhythm, people forge connections, share stories, and embrace the fusion of traditions. Each corner holds a unique narrative, contributing to the rich mosaic that defines the city's dynamic essenc\""
      ]
     },
     "execution_count": 4,
     "metadata": {},
     "output_type": "execute_result"
    }
   ],
   "source": [
    "a[-320:-2]"
   ]
  },
  {
   "cell_type": "code",
   "execution_count": 5,
   "id": "9d640451",
   "metadata": {},
   "outputs": [
    {
     "data": {
      "text/plain": [
       "'biryani khaoge ya nhi? '"
      ]
     },
     "execution_count": 5,
     "metadata": {},
     "output_type": "execute_result"
    }
   ],
   "source": [
    "food = (\"biryani khaoge ya nhi? \")\n",
    "food"
   ]
  },
  {
   "cell_type": "code",
   "execution_count": 2,
   "id": "cc412b9f",
   "metadata": {},
   "outputs": [
    {
     "name": "stdout",
     "output_type": "stream",
     "text": [
      "The strings are case-insensitively equal.\n"
     ]
    }
   ],
   "source": [
    "#to check the equality case insensitively\n",
    "str1 = \"hello\"\n",
    "str2 = \"hello\"\n",
    "\n",
    "if str1.casefold() == str2.casefold():\n",
    "    print(\"The strings are case-insensitively equal.\")\n",
    "else:\n",
    "    print(\"The strings are different.\")"
   ]
  },
  {
   "cell_type": "code",
   "execution_count": 3,
   "id": "d14165d0",
   "metadata": {},
   "outputs": [
    {
     "name": "stdout",
     "output_type": "stream",
     "text": [
      "Original String: Python\n",
      "Centered String:                       Python                      \n"
     ]
    }
   ],
   "source": [
    "#to center align the value\n",
    "original_string = \"Python\"\n",
    "centered_string = original_string.center(50)\n",
    "\n",
    "print(\"Original String:\", original_string)\n",
    "print(\"Centered String:\", centered_string)"
   ]
  },
  {
   "cell_type": "markdown",
   "id": "8fd5c4ba",
   "metadata": {},
   "source": [
    "# 2- Tuple"
   ]
  },
  {
   "cell_type": "code",
   "execution_count": 4,
   "id": "569b74b8",
   "metadata": {},
   "outputs": [
    {
     "data": {
      "text/plain": [
       "('a', 'b', 1, 2, 3, 'bracket')"
      ]
     },
     "execution_count": 4,
     "metadata": {},
     "output_type": "execute_result"
    }
   ],
   "source": [
    "tup1= ('a', 'b', 1, 2, 3, 'bracket')\n",
    "tup1"
   ]
  },
  {
   "cell_type": "code",
   "execution_count": 5,
   "id": "0472da7b",
   "metadata": {},
   "outputs": [
    {
     "data": {
      "text/plain": [
       "('Ali', 'hassan', 55, 90)"
      ]
     },
     "execution_count": 5,
     "metadata": {},
     "output_type": "execute_result"
    }
   ],
   "source": [
    "tup2= (\"Ali\", \"hassan\", 55, 90)\n",
    "tup2"
   ]
  },
  {
   "cell_type": "code",
   "execution_count": 6,
   "id": "29bc89ed",
   "metadata": {},
   "outputs": [
    {
     "data": {
      "text/plain": [
       "('a', 'b', 1, 2, 3, 'bracket', 'Ali', 'hassan', 55, 90)"
      ]
     },
     "execution_count": 6,
     "metadata": {},
     "output_type": "execute_result"
    }
   ],
   "source": [
    "#addition of tuples\n",
    "tup1 + tup2"
   ]
  },
  {
   "cell_type": "code",
   "execution_count": 8,
   "id": "965feae7",
   "metadata": {
    "scrolled": true
   },
   "outputs": [
    {
     "data": {
      "text/plain": [
       "6"
      ]
     },
     "execution_count": 8,
     "metadata": {},
     "output_type": "execute_result"
    }
   ],
   "source": [
    "#length of tupes\n",
    "len(tup1)"
   ]
  },
  {
   "cell_type": "code",
   "execution_count": 9,
   "id": "983a054e",
   "metadata": {},
   "outputs": [
    {
     "data": {
      "text/plain": [
       "3"
      ]
     },
     "execution_count": 9,
     "metadata": {},
     "output_type": "execute_result"
    }
   ],
   "source": [
    "#indexing of tuples \n",
    "tup1[4]"
   ]
  },
  {
   "cell_type": "code",
   "execution_count": null,
   "id": "ba5f0218",
   "metadata": {},
   "outputs": [],
   "source": [
    "#for length\n",
    "len(tup2)"
   ]
  },
  {
   "cell_type": "code",
   "execution_count": null,
   "id": "356a7225",
   "metadata": {},
   "outputs": [],
   "source": [
    "tup3 = (1,2,3,6,7,8,9)\n",
    "tup3"
   ]
  },
  {
   "cell_type": "code",
   "execution_count": null,
   "id": "e6fcad2c",
   "metadata": {},
   "outputs": [],
   "source": [
    "#minimum#\n",
    "min(tup3)"
   ]
  },
  {
   "cell_type": "code",
   "execution_count": null,
   "id": "50e3ac9e",
   "metadata": {},
   "outputs": [],
   "source": [
    "#maximum\n",
    "max(tup3)"
   ]
  },
  {
   "cell_type": "markdown",
   "id": "d0aaebda",
   "metadata": {},
   "source": [
    "# 3- List"
   ]
  },
  {
   "cell_type": "code",
   "execution_count": 24,
   "id": "4f8dc5a4",
   "metadata": {},
   "outputs": [
    {
     "data": {
      "text/plain": [
       "[2, 'adnanhyder', False]"
      ]
     },
     "execution_count": 24,
     "metadata": {},
     "output_type": "execute_result"
    }
   ],
   "source": [
    "list1 = [2, \"adnanhyder\", False]\n",
    "list1"
   ]
  },
  {
   "cell_type": "code",
   "execution_count": 25,
   "id": "bfdd3021-3e3d-459e-b22b-4b7a4810c78c",
   "metadata": {},
   "outputs": [
    {
     "data": {
      "text/plain": [
       "list"
      ]
     },
     "execution_count": 25,
     "metadata": {},
     "output_type": "execute_result"
    }
   ],
   "source": [
    "type(list1)"
   ]
  },
  {
   "cell_type": "code",
   "execution_count": 19,
   "id": "8325b8aa",
   "metadata": {},
   "outputs": [
    {
     "data": {
      "text/plain": [
       "[3.4, 'Adnan', 'Codanics', 478, 52.2, False]"
      ]
     },
     "execution_count": 19,
     "metadata": {},
     "output_type": "execute_result"
    }
   ],
   "source": [
    "list2 = [3.4,\"Adnan\", \"Codanics\", 478, 52.2, False]\n",
    "list2"
   ]
  },
  {
   "cell_type": "code",
   "execution_count": 20,
   "id": "10dadba4",
   "metadata": {},
   "outputs": [
    {
     "data": {
      "text/plain": [
       "list"
      ]
     },
     "execution_count": 20,
     "metadata": {},
     "output_type": "execute_result"
    }
   ],
   "source": [
    "type(list2)"
   ]
  },
  {
   "cell_type": "code",
   "execution_count": 26,
   "id": "60970078",
   "metadata": {
    "scrolled": true
   },
   "outputs": [
    {
     "data": {
      "text/plain": [
       "[2, 'adnanhyder', False, 3.4, 'Adnan', 'Codanics', 478, 52.2, False]"
      ]
     },
     "execution_count": 26,
     "metadata": {},
     "output_type": "execute_result"
    }
   ],
   "source": [
    "list1 + list2"
   ]
  },
  {
   "cell_type": "code",
   "execution_count": 27,
   "id": "e0bcc189",
   "metadata": {},
   "outputs": [
    {
     "data": {
      "text/plain": [
       "[2, 'adnanhyder', False, 2, 'adnanhyder', False]"
      ]
     },
     "execution_count": 27,
     "metadata": {},
     "output_type": "execute_result"
    }
   ],
   "source": [
    "list1*2"
   ]
  },
  {
   "cell_type": "code",
   "execution_count": 28,
   "id": "b6933e71",
   "metadata": {},
   "outputs": [
    {
     "data": {
      "text/plain": [
       "[False, 'adnanhyder', 2]"
      ]
     },
     "execution_count": 28,
     "metadata": {},
     "output_type": "execute_result"
    }
   ],
   "source": [
    "list1.reverse()\n",
    "list1"
   ]
  },
  {
   "cell_type": "code",
   "execution_count": 29,
   "id": "fca0b96b",
   "metadata": {},
   "outputs": [
    {
     "data": {
      "text/plain": [
       "[False, 'adnanhyder', 2, 'khan3211']"
      ]
     },
     "execution_count": 29,
     "metadata": {},
     "output_type": "execute_result"
    }
   ],
   "source": [
    "list1.append(\"khan3211\")\n",
    "list1"
   ]
  },
  {
   "cell_type": "code",
   "execution_count": 30,
   "id": "1b6a5dd9",
   "metadata": {},
   "outputs": [
    {
     "data": {
      "text/plain": [
       "(2, 5, False)"
      ]
     },
     "execution_count": 30,
     "metadata": {},
     "output_type": "execute_result"
    }
   ],
   "source": [
    "list1 = (2, 5, False)\n",
    "list1"
   ]
  },
  {
   "cell_type": "code",
   "execution_count": 32,
   "id": "04598a2b",
   "metadata": {},
   "outputs": [
    {
     "data": {
      "text/plain": [
       "1"
      ]
     },
     "execution_count": 32,
     "metadata": {},
     "output_type": "execute_result"
    }
   ],
   "source": [
    "two = list1.count(2)\n",
    "two"
   ]
  },
  {
   "cell_type": "code",
   "execution_count": 33,
   "id": "6c3d43fa",
   "metadata": {},
   "outputs": [
    {
     "data": {
      "text/plain": [
       "[20, 30, 540, 50, 15, 10, 35, 65, 60]"
      ]
     },
     "execution_count": 33,
     "metadata": {},
     "output_type": "execute_result"
    }
   ],
   "source": [
    "list3 = [20,30,540,50,15,10,35,65,60]\n",
    "list3"
   ]
  },
  {
   "cell_type": "code",
   "execution_count": 33,
   "id": "04e7b636",
   "metadata": {},
   "outputs": [
    {
     "data": {
      "text/plain": [
       "9"
      ]
     },
     "execution_count": 33,
     "metadata": {},
     "output_type": "execute_result"
    }
   ],
   "source": [
    "len(list3)"
   ]
  },
  {
   "cell_type": "code",
   "execution_count": 34,
   "id": "398507cd",
   "metadata": {},
   "outputs": [
    {
     "data": {
      "text/plain": [
       "[10, 15, 20, 30, 35, 50, 60, 65, 540]"
      ]
     },
     "execution_count": 34,
     "metadata": {},
     "output_type": "execute_result"
    }
   ],
   "source": [
    "#sorting a list\n",
    "list3.sort()\n",
    "list3"
   ]
  },
  {
   "cell_type": "code",
   "execution_count": 35,
   "id": "d3c5af55",
   "metadata": {},
   "outputs": [
    {
     "data": {
      "text/plain": [
       "[20, 30, 540, 50, 15, 10, 35, 65, 60, 20, 30, 540, 50, 15, 10, 35, 65, 60]"
      ]
     },
     "execution_count": 35,
     "metadata": {},
     "output_type": "execute_result"
    }
   ],
   "source": [
    "##confirm the type of lists before multiplying. it should be list type.\n",
    "list3*2"
   ]
  },
  {
   "cell_type": "code",
   "execution_count": 37,
   "id": "3895c635",
   "metadata": {},
   "outputs": [
    {
     "data": {
      "text/plain": [
       "[10,\n",
       " 15,\n",
       " 20,\n",
       " 30,\n",
       " 35,\n",
       " 50,\n",
       " 60,\n",
       " 65,\n",
       " 540,\n",
       " 3.4,\n",
       " 'Adnan',\n",
       " 'Codanics',\n",
       " 478,\n",
       " 52.2,\n",
       " False,\n",
       " []]"
      ]
     },
     "execution_count": 37,
     "metadata": {},
     "output_type": "execute_result"
    }
   ],
   "source": [
    "#confirm the type of lists before adding. it should be list type.\n",
    "list3 + list2"
   ]
  },
  {
   "cell_type": "code",
   "execution_count": 38,
   "id": "984e1ba6",
   "metadata": {},
   "outputs": [
    {
     "data": {
      "text/plain": [
       "[3.4,\n",
       " 'Adnan',\n",
       " 'Codanics',\n",
       " 478,\n",
       " 52.2,\n",
       " False,\n",
       " [],\n",
       " 10,\n",
       " 15,\n",
       " 20,\n",
       " 30,\n",
       " 35,\n",
       " 50,\n",
       " 60,\n",
       " 65,\n",
       " 540]"
      ]
     },
     "execution_count": 38,
     "metadata": {},
     "output_type": "execute_result"
    }
   ],
   "source": [
    "lists = list2 + list3\n",
    "lists"
   ]
  },
  {
   "cell_type": "code",
   "execution_count": 39,
   "id": "a57d063e",
   "metadata": {
    "scrolled": true
   },
   "outputs": [
    {
     "data": {
      "text/plain": [
       "['list', 'of', 'elements']"
      ]
     },
     "execution_count": 39,
     "metadata": {},
     "output_type": "execute_result"
    }
   ],
   "source": [
    "#we have to use these [] parenthesis to define the list.\n",
    "list5= ['list', 'of', 'elements']\n",
    "list5"
   ]
  },
  {
   "cell_type": "code",
   "execution_count": 7,
   "id": "492fd4f0",
   "metadata": {},
   "outputs": [
    {
     "data": {
      "text/plain": [
       "list"
      ]
     },
     "execution_count": 7,
     "metadata": {},
     "output_type": "execute_result"
    }
   ],
   "source": [
    "type(list5)"
   ]
  },
  {
   "cell_type": "code",
   "execution_count": 36,
   "id": "e2c70ddb",
   "metadata": {},
   "outputs": [
    {
     "data": {
      "text/plain": [
       "[5, 6, 7, 8]"
      ]
     },
     "execution_count": 36,
     "metadata": {},
     "output_type": "execute_result"
    }
   ],
   "source": [
    "list6= [5,6,7,8]\n",
    "list6"
   ]
  },
  {
   "cell_type": "code",
   "execution_count": 8,
   "id": "104b53ea",
   "metadata": {},
   "outputs": [
    {
     "data": {
      "text/plain": [
       "list"
      ]
     },
     "execution_count": 8,
     "metadata": {},
     "output_type": "execute_result"
    }
   ],
   "source": [
    "type(list6)"
   ]
  },
  {
   "cell_type": "code",
   "execution_count": 6,
   "id": "4a8c8e14",
   "metadata": {},
   "outputs": [
    {
     "data": {
      "text/plain": [
       "['list', 'of', 'elements', 5, 6, 7, 8]"
      ]
     },
     "execution_count": 6,
     "metadata": {},
     "output_type": "execute_result"
    }
   ],
   "source": [
    "list5 + list6"
   ]
  },
  {
   "cell_type": "code",
   "execution_count": 9,
   "id": "af465efe",
   "metadata": {},
   "outputs": [
    {
     "data": {
      "text/plain": [
       "3"
      ]
     },
     "execution_count": 9,
     "metadata": {},
     "output_type": "execute_result"
    }
   ],
   "source": [
    "len(list5)"
   ]
  },
  {
   "cell_type": "code",
   "execution_count": 37,
   "id": "32b3445b",
   "metadata": {},
   "outputs": [
    {
     "data": {
      "text/plain": [
       "4"
      ]
     },
     "execution_count": 37,
     "metadata": {},
     "output_type": "execute_result"
    }
   ],
   "source": [
    "indexing= len(list6)\n",
    "indexing"
   ]
  },
  {
   "cell_type": "code",
   "execution_count": 42,
   "id": "a433ff4d",
   "metadata": {},
   "outputs": [
    {
     "name": "stderr",
     "output_type": "stream",
     "text": [
      "<>:2: SyntaxWarning: 'int' object is not callable; perhaps you missed a comma?\n",
      "<>:2: SyntaxWarning: 'int' object is not callable; perhaps you missed a comma?\n",
      "C:\\Users\\Farhan Ali\\AppData\\Local\\Temp\\ipykernel_6276\\4152524331.py:2: SyntaxWarning: 'int' object is not callable; perhaps you missed a comma?\n",
      "  list5.insert[0(5)]\n"
     ]
    },
    {
     "ename": "TypeError",
     "evalue": "'int' object is not callable",
     "output_type": "error",
     "traceback": [
      "\u001b[1;31m---------------------------------------------------------------------------\u001b[0m",
      "\u001b[1;31mTypeError\u001b[0m                                 Traceback (most recent call last)",
      "Cell \u001b[1;32mIn[42], line 2\u001b[0m\n\u001b[0;32m      1\u001b[0m \u001b[38;5;66;03m#when we will insert an element into the list, we will have also to insert the index number where the element is to be placed.\u001b[39;00m\n\u001b[1;32m----> 2\u001b[0m list5\u001b[38;5;241m.\u001b[39minsert[\u001b[38;5;241;43m0\u001b[39;49m\u001b[43m(\u001b[49m\u001b[38;5;241;43m5\u001b[39;49m\u001b[43m)\u001b[49m]\n\u001b[0;32m      3\u001b[0m list5\n",
      "\u001b[1;31mTypeError\u001b[0m: 'int' object is not callable"
     ]
    }
   ],
   "source": [
    "#when we will insert an element into the list, we will have also to insert the index number where the element is to be placed.\n",
    "list5.insert[0(g\n",
    "list5"
   ]
  },
  {
   "cell_type": "markdown",
   "id": "ac017e0e",
   "metadata": {},
   "source": [
    "# 4- Dictionaries\n",
    "- An unordered collection of elements\n",
    "- Key and value\n",
    "- curly braces or brackets { }\n",
    "- Mutateable / Change the values"
   ]
  },
  {
   "cell_type": "code",
   "execution_count": 43,
   "id": "26823c26",
   "metadata": {},
   "outputs": [
    {
     "data": {
      "text/plain": [
       "{'Samosa': 30, 'Pakora': 50, 'Raita': 20, 'Salad': 50, 'Role': 60}"
      ]
     },
     "execution_count": 43,
     "metadata": {},
     "output_type": "execute_result"
    }
   ],
   "source": [
    "#Food and their prices\n",
    "d1= {\"Samosa\":30, \"Pakora\":50, \"Raita\":20, \"Salad\":50, \"Role\":60}\n",
    "d1"
   ]
  },
  {
   "cell_type": "code",
   "execution_count": 44,
   "id": "9b4b90af",
   "metadata": {},
   "outputs": [
    {
     "data": {
      "text/plain": [
       "dict"
      ]
     },
     "execution_count": 44,
     "metadata": {},
     "output_type": "execute_result"
    }
   ],
   "source": [
    "type(d1)"
   ]
  },
  {
   "cell_type": "markdown",
   "id": "ba55fa57",
   "metadata": {},
   "source": [
    "### extract data"
   ]
  },
  {
   "cell_type": "code",
   "execution_count": 7,
   "id": "44e501dd",
   "metadata": {
    "scrolled": true
   },
   "outputs": [
    {
     "data": {
      "text/plain": [
       "dict_keys(['Samosa', 'Pakora', 'Raita', 'Salad', 'Role'])"
      ]
     },
     "execution_count": 7,
     "metadata": {},
     "output_type": "execute_result"
    }
   ],
   "source": [
    "keys1= d1.keys()\n",
    "keys1"
   ]
  },
  {
   "cell_type": "code",
   "execution_count": 8,
   "id": "61c105d0",
   "metadata": {},
   "outputs": [
    {
     "data": {
      "text/plain": [
       "dict_values([30, 50, 20, 50, 60])"
      ]
     },
     "execution_count": 8,
     "metadata": {},
     "output_type": "execute_result"
    }
   ],
   "source": [
    "value1= d1.values()\n",
    "value1"
   ]
  },
  {
   "cell_type": "markdown",
   "id": "4b1ba8ee",
   "metadata": {},
   "source": [
    "### adding new element"
   ]
  },
  {
   "cell_type": "code",
   "execution_count": 45,
   "id": "efcb4ac5",
   "metadata": {},
   "outputs": [
    {
     "data": {
      "text/plain": [
       "{'Samosa': 30, 'Pakora': 50, 'Raita': 20, 'Salad': 50, 'Role': 60, 'tikki': 10}"
      ]
     },
     "execution_count": 45,
     "metadata": {},
     "output_type": "execute_result"
    }
   ],
   "source": [
    "d1[\"tikki\"]= 10\n",
    "d1"
   ]
  },
  {
   "cell_type": "code",
   "execution_count": 46,
   "id": "97c7c4e2",
   "metadata": {
    "scrolled": true
   },
   "outputs": [
    {
     "data": {
      "text/plain": [
       "{'Samosa': 30, 'Pakora': 50, 'Raita': 20, 'Salad': 50, 'Role': 60, 'tikki': 20}"
      ]
     },
     "execution_count": 46,
     "metadata": {},
     "output_type": "execute_result"
    }
   ],
   "source": [
    "d1[\"tikki\"]= 20\n",
    "d1"
   ]
  },
  {
   "cell_type": "code",
   "execution_count": 18,
   "id": "17a3d458",
   "metadata": {},
   "outputs": [
    {
     "data": {
      "text/plain": [
       "{'dates': 50, 'chocolates': 200, 'sawaiyan': 1000}"
      ]
     },
     "execution_count": 18,
     "metadata": {},
     "output_type": "execute_result"
    }
   ],
   "source": [
    "d2={\"dates\":50, \"chocolates\":200, \"sawaiyan\":1000}\n",
    "d2"
   ]
  },
  {
   "cell_type": "code",
   "execution_count": 33,
   "id": "d4874d20",
   "metadata": {},
   "outputs": [
    {
     "data": {
      "text/plain": [
       "{'Samosa': 30,\n",
       " 'Pakora': 50,\n",
       " 'Raita': 20,\n",
       " 'Salad': 50,\n",
       " 'Role': 60,\n",
       " 'tikki': 20,\n",
       " 'dates': 50,\n",
       " 'chocolates': 200,\n",
       " 'sawaiyan': 1000}"
      ]
     },
     "execution_count": 33,
     "metadata": {},
     "output_type": "execute_result"
    }
   ],
   "source": [
    "#Concatenate\n",
    "d1.update(d2)\n",
    "d1"
   ]
  },
  {
   "cell_type": "code",
   "execution_count": 21,
   "id": "92922ce8",
   "metadata": {},
   "outputs": [
    {
     "data": {
      "text/plain": [
       "{'Samosa': 30, 'Pakora': 50, 'Raita': 20, 'Salad': 50, 'Role': 60, 'tikki': 20}"
      ]
     },
     "execution_count": 21,
     "metadata": {},
     "output_type": "execute_result"
    }
   ],
   "source": []
  },
  {
   "cell_type": "markdown",
   "id": "66566059",
   "metadata": {},
   "source": [
    "# 5- Set"
   ]
  },
  {
   "cell_type": "code",
   "execution_count": 34,
   "id": "8e5f52b8",
   "metadata": {},
   "outputs": [],
   "source": [
    "#unordered and unindexed\n",
    "#curly braces are used { }\n",
    "#No duplicated allowed"
   ]
  },
  {
   "cell_type": "code",
   "execution_count": 52,
   "id": "b3ef085c",
   "metadata": {},
   "outputs": [
    {
     "data": {
      "text/plain": [
       "{1, 2.2, 5.2, 'ammar1', 'codanics', 'faisalabad'}"
      ]
     },
     "execution_count": 52,
     "metadata": {},
     "output_type": "execute_result"
    }
   ],
   "source": [
    "s1 = {1, 2.2, 5.2, \"ammar1\", \"codanics\", \"faisalabad\"}\n",
    "s1"
   ]
  },
  {
   "cell_type": "code",
   "execution_count": 53,
   "id": "471acd9e",
   "metadata": {},
   "outputs": [
    {
     "data": {
      "text/plain": [
       "set"
      ]
     },
     "execution_count": 53,
     "metadata": {},
     "output_type": "execute_result"
    }
   ],
   "source": [
    "type(s1)"
   ]
  },
  {
   "cell_type": "code",
   "execution_count": 56,
   "id": "7d312af8",
   "metadata": {},
   "outputs": [],
   "source": [
    "s1.add(\"ammar2\")"
   ]
  },
  {
   "cell_type": "code",
   "execution_count": 57,
   "id": "283fafd3",
   "metadata": {},
   "outputs": [
    {
     "data": {
      "text/plain": [
       "{1, 2.2, 5.2, 'ammar1', 'ammar2', 'codanics', 'faisalabad'}"
      ]
     },
     "execution_count": 57,
     "metadata": {},
     "output_type": "execute_result"
    }
   ],
   "source": [
    "s1"
   ]
  }
 ],
 "metadata": {
  "kernelspec": {
   "display_name": "Python 3 (ipykernel)",
   "language": "python",
   "name": "python3"
  },
  "language_info": {
   "codemirror_mode": {
    "name": "ipython",
    "version": 3
   },
   "file_extension": ".py",
   "mimetype": "text/x-python",
   "name": "python",
   "nbconvert_exporter": "python",
   "pygments_lexer": "ipython3",
   "version": "3.11.7"
  }
 },
 "nbformat": 4,
 "nbformat_minor": 5
}
